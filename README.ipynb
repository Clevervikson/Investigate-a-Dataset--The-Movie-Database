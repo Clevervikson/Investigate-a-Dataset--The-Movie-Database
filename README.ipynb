Project: Investigate a Dataset - [The Movie Database]
Project Overview
In this project, we have to analyze a dataset and then communicate our findings about it. I make use of Python libraries such as NumPy, pandas, and Matplotlib to make your analysis easier.

Software Installation
pandas
NumPy
Matplotlib
seaborn
Anaconda
Jupyter notebook
Why this Project?
In this project, I investigate the movies data using NumPy and pandas. I completed the entire data analysis process, starting by posing a question and finishing by sharing your findings.

What I have learn?
Learned the data analysis process of wrangling, exploring, analyzing, and communicating data.
Developed the skills organize data, uncover patterns and insights, draw meaningful conclusions, and clearly communicate critical findings.
Developed proficiency in Python and its data analysis libraries (Numpy, pandas, Matplotlib) and SQL as you
