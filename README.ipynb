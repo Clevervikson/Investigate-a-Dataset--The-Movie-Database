{
 "cells": [
  {
   "cell_type": "markdown",
   "metadata": {},
   "source": [
    "# Project: Investigate a Dataset - [The Movie Database]\n",
    "\n",
    "## Project Overview\n",
    "In this project, we have to analyze a dataset and then communicate our findings about it. I make use of Python libraries such as NumPy, pandas, and Matplotlib to make your analysis easier.\n",
    "\n",
    "## Software Installation\n",
    "- pandas\n",
    "- NumPy\n",
    "- Matplotlib\n",
    "- seaborn \n",
    "- Anaconda\n",
    "- Jupyter notebook \n",
    "\n",
    "\n",
    "## Why this Project?\n",
    "\n",
    "In this project, I investigate the movies data using NumPy and pandas. I completed the entire\n",
    "data analysis process, starting by posing a question and finishing by sharing your findings.\n",
    "\n",
    "## What I have learn?\n",
    "\n",
    "- Learned the data analysis process of wrangling, exploring, analyzing, and communicating data. \n",
    "- Developed the skills organize data, uncover patterns and insights, draw meaningful conclusions, and clearly communicate critical findings.\n",
    "- Developed proficiency in Python and its data analysis libraries (Numpy, pandas, Matplotlib) and SQL as you"
   ]
  }
 ],
 "metadata": {
  "kernelspec": {
   "display_name": "Python 3",
   "language": "python",
   "name": "python3"
  },
  "language_info": {
   "codemirror_mode": {
    "name": "ipython",
    "version": 3
   },
   "file_extension": ".py",
   "mimetype": "text/x-python",
   "name": "python",
   "nbconvert_exporter": "python",
   "pygments_lexer": "ipython3",
   "version": "3.8.5"
  }
 },
 "nbformat": 4,
 "nbformat_minor": 4
}
